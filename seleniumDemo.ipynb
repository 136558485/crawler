{
 "cells": [
  {
   "cell_type": "code",
   "execution_count": 1,
   "metadata": {},
   "outputs": [],
   "source": [
    "from selenium import webdriver\n",
    "from selenium.webdriver.common.by import By\n",
    "from selenium.webdriver.common.keys import Keys\n",
    "from selenium.webdriver.support import expected_conditions as EC\n",
    "from selenium.webdriver.support.wait import WebDriverWait\n",
    "from selenium.webdriver import ActionChains\n",
    "import time\n"
   ]
  },
  {
   "cell_type": "code",
   "execution_count": 2,
   "metadata": {},
   "outputs": [],
   "source": [
    "#加载google控件\n",
    "browser = webdriver.Chrome()\n",
    "#模拟跳转到目标url\n",
    "browser.get('https://www.taobao.com')\n",
    "#跳转到目标页面之后，进行在页面上的各种操作\n",
    "try:\n",
    "    input = browser.find_element(By.ID,'q')\n",
    "    input.send_keys('办公桌')\n",
    "    input.clear()\n",
    "    time.sleep(3)\n",
    "    input.send_keys('华为荣耀')\n",
    "    time.sleep(3)\n",
    "    input.send_keys(Keys.ENTER)\n",
    "    #print(browser.page_source)\n",
    "    \n",
    "except:\n",
    "    print('出现异常啦！')\n",
    "finally:\n",
    "    browser.close()"
   ]
  },
  {
   "cell_type": "code",
   "execution_count": 7,
   "metadata": {},
   "outputs": [],
   "source": [
    "browser = webdriver.Chrome()\n",
    "browser.get('https://www.runoob.com/try/try.php?filename=jqueryui-api-droppable')\n",
    "#跳到页面中的ifram中\n",
    "browser.switch_to.frame('iframeResult')\n",
    "source = browser.find_element(By.ID,'draggable')\n",
    "target = browser.find_element(By.ID,'droppable')\n",
    "#在目标界面做拖拽操作\n",
    "action = ActionChains(browser)\n",
    "action.drag_and_drop(source,target)\n",
    "action.perform()"
   ]
  },
  {
   "cell_type": "code",
   "execution_count": 5,
   "metadata": {},
   "outputs": [],
   "source": [
    "browser = webdriver.Chrome()\n",
    "browser.get(\"https://www.zhihu.com/explore\")\n",
    "#在目标界面做滚动条滚动操作\n",
    "browser.execute_script(\"window.scrollTo(0,document.body.scrollHeight)\")\n",
    "browser.execute_script(\"alert('to buttom')\")\n"
   ]
  },
  {
   "cell_type": "code",
   "execution_count": 4,
   "metadata": {},
   "outputs": [],
   "source": [
    "browser = webdriver.Chrome()\n",
    "#在目标界面输入字符到搜索框\n",
    "try:\n",
    "    browser.get('https://www.baidu.com')\n",
    "    input = browser.find_element_by_id('kw')\n",
    "    input.send_keys('Python')\n",
    "    input.send_keys(Keys.ENTER)\n",
    "    wait = WebDriverWait(browser,10)\n",
    "    wait.until(EC.presence_of_element_located((By.ID,'content_left')))\n",
    "    #print(browser.current_url)\n",
    "    #print(browser.get_cookies())\n",
    "    #print(browser.page_source)\n",
    "except:\n",
    "    print('有异常')\n",
    "finally:\n",
    "    browser.close()"
   ]
  },
  {
   "cell_type": "code",
   "execution_count": 3,
   "metadata": {},
   "outputs": [
    {
     "name": "stdout",
     "output_type": "stream",
     "text": [
      "写入到html文件。。。。。。。\n",
      "tanx-a-mm_12852562_1778064_131176478\n"
     ]
    }
   ],
   "source": [
    "browser = webdriver.Chrome()\n",
    "browser.implicitly_wait(10)\n",
    "browser.get('https://www.taobao.com')\n",
    "\n",
    "\n",
    "\n",
    "browser.close()"
   ]
  }
 ],
 "metadata": {
  "kernelspec": {
   "display_name": "Python 3",
   "language": "python",
   "name": "python3"
  },
  "language_info": {
   "codemirror_mode": {
    "name": "ipython",
    "version": 3
   },
   "file_extension": ".py",
   "mimetype": "text/x-python",
   "name": "python",
   "nbconvert_exporter": "python",
   "pygments_lexer": "ipython3",
   "version": "3.6.3"
  }
 },
 "nbformat": 4,
 "nbformat_minor": 2
}
